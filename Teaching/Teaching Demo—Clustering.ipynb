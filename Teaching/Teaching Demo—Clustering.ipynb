{
 "cells": [
  {
   "cell_type": "markdown",
   "id": "3744b24d",
   "metadata": {},
   "source": [
    "# Teaching Demo — Clustering\n",
    "\n",
    "Bill Quinn<br>May 10, 2022"
   ]
  },
  {
   "cell_type": "code",
   "execution_count": 1,
   "id": "0f489ab5",
   "metadata": {},
   "outputs": [
    {
     "name": "stdout",
     "output_type": "stream",
     "text": [
      "Constellate: use and download of datasets is covered by the Terms & Conditions of Use: https://constellate.org/terms-and-conditions/\n",
      "All documents from JSTOR published in Shakespeare Quarterly from 1950 - 2020. 6745 documents.\n",
      "INFO:root:File /Users/quinn.wi/data/7e41317e-740f-e86a-4729-20dab492e925.jsonl.gz exists. Not re-downloading.\n",
      "CPU times: user 74.5 ms, sys: 20.3 ms, total: 94.9 ms\n",
      "Wall time: 392 ms\n"
     ]
    }
   ],
   "source": [
    "%%time\n",
    "\n",
    "# Make sure constellate is installed and begin downloading toy dataset.\n",
    "# This may take a few minutes the first time.\n",
    "import constellate\n",
    "\n",
    "dataset_id = '7e41317e-740f-e86a-4729-20dab492e925'\n",
    "\n",
    "dataset_file = constellate.download(dataset_id, 'jsonl')"
   ]
  },
  {
   "cell_type": "markdown",
   "id": "452e5525",
   "metadata": {},
   "source": [
    "## Clustering Overview\n",
    "\n",
    "### What is clustering?\n",
    "\n",
    "In simple terms, clustering is a machine learning process that tries to divide a dataset into groups, or clusters. The process organizes these clusters based on whether they share similar features to each other. For our purposes, documents that share similar words will cohere around a point (known as a centroid) and dissimilar documents will move away from that point (and make their own centroid elsewhere). Clustering is an unsupervised process, which means we don't need to supply annotations or labels. All we need is the data (the text in this case). \n",
    "\n",
    "More specifically, we will be using Principal Component Analysis and KMeans Clustering to do this task. Rather than get bogged down on these technical terms, however, we will define them when we use them. The transformations that create can be more intuitive than their definitions.\n",
    "\n",
    "![CESTA Flight Clustering](assets/images/Schmidt_CESTA-clustering.png \"CESTA Flight Clustering - Ben Schmidt\")\n",
    "> [CESTA Flight Clusters by Ben Schmidt](https://benschmidt.org/HDA/clustering.html)\n",
    "\n",
    "### Why use clustering?\n",
    "\n",
    "Clustering can be an effective way to explore a dataset and discover inherent patterns. These patterns might reveal something about our dataset we couldn't perceive from reading or might prompt further questions about things we suspected but didn't know.\n",
    "\n",
    "### The goal of this notebook.\n",
    "\n",
    "My hope is that this notebook will serve as a template for transforming data and clustering it. While our focus will be on clustering data, converting text data to a numerical matrices has broad applicability. The first half of this notebook can be a jumping off point for other machine learning processes, especially from the SciKit-Learn library.\n",
    "\n",
    "### What to expect from this notebook.\n",
    "\n",
    "<b>Audience:</b> `Teachers` / `Learners` / `Researchers`\n",
    "\n",
    "<b>Use Case:</b> `How-To`\n",
    "\n",
    "This notebook offers a recipe of parts that guides the user through the steps involved in addressing key problems and use-cases. More advanced than tutorials and assumes more basic knowledge. A How-To may use toy examples, but it also gives perspective on how to adapt a process to other common issues or data.\n",
    "\n",
    "<b>Difficulty:</b> `Advanced`\n",
    "\n",
    "Advanced assumes users are very familiar with Python and have been programming for years, but they may not be familiar with the process being explained. \n",
    "\n",
    "> If this sounds intimidating, though, I hope you'll stick around! I've learned advanced skills by playing with libraries and methods I was unfamiliar with just to see what I'd find. I think breaking, fixing, and playing are the best ways to learn code. Additionally, \"stealing\" code is writing code, so please take whatever you need from this notebook and adapt the rest!\n",
    "\n",
    "<b>Completion Time:</b> `60 minutes`\n",
    "\n",
    "<b>Knowledge Required:</b>\n",
    "- Python basics (variables, flow control, functions, loops, and conditions) \n",
    "- Basic data structures and types (lists, dictionaries, strings, and integers)\n",
    "- A general understanding of TF-IDF and what it does.\n",
    "\n",
    "<b>Knowledge Recommended:</b>\n",
    "- Basic understanding of dataframes and `Pandas`.\n",
    "- Familiarity with using libraries.\n",
    "\n",
    "<b>Learning Objectives:</b>\n",
    "- Describe clustering and why/when to implement it.\n",
    "- Transform text data into TF/IDF and re-join with metadata.\n",
    "- Find the principal components of a data set, TF/IDF in this case.\n",
    "- Visualize clusters of documents as scatter plot.\n",
    "\n",
    "<b>Research Pipeline:</b>\n",
    "- Before working through this notebook, it could be helpful to review TF/IDF and working with Constellate data.\n",
    "    - Much of this workshop builds off of [Finding Significant Words using TF/IDF](https://constellate.org/tutorials/finding-significant-terms)\n",
    "- This notebook will provide a template for transforming text data to a TF/IDF matrix and using that matrix for clustering.\n",
    "- After working through this notebook, try creating a new notebook and clustering a different data set.\n",
    "    - I recommended always typing code by hand rather than copying-and-pasting. While tedious, working through code slowly can help it stick better.\n",
    "- Once you have the code working on your own dataset, I suspect you might have more questions about why your data was sorted the way it was and invite you to further explore machine learning methods.\n",
    "\n",
    "### Required Libraries\n",
    "\n",
    "In addition to using `Pandas`, `numpy`, and `matplotlib`, which should be included when you installed Jupyter Notebook, we will also be using the following libraries. If you haven't used these before you can install them by copying and pasting these commands in your <b>Terminal (Mac)</b> or <b>Command Prompt (Windows)</b>.\n",
    "\n",
    "- <b>Constellate Client:</b> `pip install constellate-client`\n",
    "    - [Constellate Documentation](https://constellate.org/docs/topic/reference)\n",
    "- <b>scikit-learn:</b> `conda install -c anaconda scikit-learn`\n",
    "    - [scikit-learn Documentation](https://scikit-learn.org/stable/)\n",
    "- <b>Seaborn:</b> `conda install -c anaconda seaborn`\n",
    "    - [Seaborn Documentation](https://seaborn.pydata.org/)\n",
    "\n",
    "## The Code\n",
    "\n",
    "### Importing Libraries"
   ]
  },
  {
   "cell_type": "code",
   "execution_count": 2,
   "id": "35957fe5",
   "metadata": {},
   "outputs": [],
   "source": [
    "import constellate\n",
    "import pandas as pd\n",
    "import numpy as np\n",
    "import matplotlib.pyplot as plt\n",
    "\n",
    "# Import Scikit Learn (sklearn).\n",
    "from sklearn.feature_extraction.text import TfidfVectorizer\n",
    "from sklearn.preprocessing import StandardScaler\n",
    "from sklearn.decomposition import PCA\n",
    "from sklearn.cluster import KMeans\n",
    "\n",
    "# Import Seaborn for visualizations.\n",
    "import seaborn as sns"
   ]
  },
  {
   "cell_type": "markdown",
   "id": "beeb5738",
   "metadata": {},
   "source": [
    "> <b>Tip:</b> To see line numbers in a code cell, press Esc. then L."
   ]
  },
  {
   "cell_type": "markdown",
   "id": "0651a10a",
   "metadata": {},
   "source": [
    "### Importing Data from Constellate"
   ]
  },
  {
   "cell_type": "code",
   "execution_count": 3,
   "id": "856ff255",
   "metadata": {},
   "outputs": [
    {
     "name": "stdout",
     "output_type": "stream",
     "text": [
      "All documents from JSTOR published in Shakespeare Quarterly from 1950 - 2020. 6745 documents.\n",
      "INFO:root:File /Users/quinn.wi/data/7e41317e-740f-e86a-4729-20dab492e925.jsonl.gz exists. Not re-downloading.\n",
      "CPU times: user 13.7 ms, sys: 2.49 ms, total: 16.2 ms\n",
      "Wall time: 159 ms\n"
     ]
    }
   ],
   "source": [
    "%%time\n",
    "\n",
    "import constellate\n",
    "\n",
    "# Feel free to change the dataset_id to another id.\n",
    "dataset_id = '7e41317e-740f-e86a-4729-20dab492e925'\n",
    "\n",
    "dataset_file = constellate.download(dataset_id, 'jsonl')"
   ]
  },
  {
   "cell_type": "markdown",
   "id": "c358c9ee",
   "metadata": {},
   "source": [
    "> <b>Tip:</b> I like to use `%%time`, which is called a \"magic command,\" to measure how long a cell takes. This can be helpful if I need to interrupt a cell. The black square just below \"Kernel\" at the top of the page will stop a cell. This is useful if I suspect a code block is taking too long and needs to be reviewed."
   ]
  },
  {
   "cell_type": "markdown",
   "id": "08845709",
   "metadata": {},
   "source": [
    "#### Create functions for cleaning data"
   ]
  },
  {
   "cell_type": "code",
   "execution_count": 4,
   "id": "a72f8c05",
   "metadata": {},
   "outputs": [
    {
     "name": "stdout",
     "output_type": "stream",
     "text": [
      "CPU times: user 2 µs, sys: 0 ns, total: 2 µs\n",
      "Wall time: 3.1 µs\n"
     ]
    }
   ],
   "source": [
    "%%time\n",
    "\n",
    "# Define a function that will process individual tokens\n",
    "# Only a token that passes through all three `if` \n",
    "# statements will be returned. A `True` result for\n",
    "# any `if` statement does not return the token.\n",
    "\n",
    "def process_token(token):\n",
    "    token = token.lower()\n",
    "    if len(token) < 4: # If True, do not return token\n",
    "        return None\n",
    "    \n",
    "    if not(token.isalpha()): # If True, do not return token\n",
    "        return None\n",
    "    \n",
    "    return token # If all are False, return the lowercased token"
   ]
  },
  {
   "cell_type": "markdown",
   "id": "75e1e411",
   "metadata": {},
   "source": [
    "#### Read in data and select some metadata"
   ]
  },
  {
   "cell_type": "code",
   "execution_count": 5,
   "id": "cff4efc1",
   "metadata": {},
   "outputs": [
    {
     "name": "stdout",
     "output_type": "stream",
     "text": [
      "CPU times: user 24.2 s, sys: 396 ms, total: 24.6 s\n",
      "Wall time: 24.9 s\n"
     ]
    },
    {
     "data": {
      "text/html": [
       "<div>\n",
       "<style scoped>\n",
       "    .dataframe tbody tr th:only-of-type {\n",
       "        vertical-align: middle;\n",
       "    }\n",
       "\n",
       "    .dataframe tbody tr th {\n",
       "        vertical-align: top;\n",
       "    }\n",
       "\n",
       "    .dataframe thead th {\n",
       "        text-align: right;\n",
       "    }\n",
       "</style>\n",
       "<table border=\"1\" class=\"dataframe\">\n",
       "  <thead>\n",
       "    <tr style=\"text-align: right;\">\n",
       "      <th></th>\n",
       "      <th>id</th>\n",
       "      <th>title</th>\n",
       "      <th>publisher</th>\n",
       "      <th>publicationYear</th>\n",
       "      <th>text</th>\n",
       "    </tr>\n",
       "  </thead>\n",
       "  <tbody>\n",
       "    <tr>\n",
       "      <th>0</th>\n",
       "      <td>http://www.jstor.org/stable/24778460</td>\n",
       "      <td>\"The Killing Stops Here\": Unmaking the Myths o...</td>\n",
       "      <td>Folger Shakespeare Library</td>\n",
       "      <td>2013</td>\n",
       "      <td>killing stops unmaking myths troy troy wooster...</td>\n",
       "    </tr>\n",
       "    <tr>\n",
       "      <th>1</th>\n",
       "      <td>http://www.jstor.org/stable/2870867</td>\n",
       "      <td>The Shenandoah Shakespeare Express</td>\n",
       "      <td>Folger Shakespeare Library</td>\n",
       "      <td>1992</td>\n",
       "      <td>shakespeare shakespeare shakespeare shakespear...</td>\n",
       "    </tr>\n",
       "    <tr>\n",
       "      <th>2</th>\n",
       "      <td>http://www.jstor.org/stable/2871295</td>\n",
       "      <td>Retrieving Jonson's Petrarch</td>\n",
       "      <td>Folger Shakespeare Library</td>\n",
       "      <td>1994</td>\n",
       "      <td>retrieving petrarch petrarch petrarch petrarch...</td>\n",
       "    </tr>\n",
       "    <tr>\n",
       "      <th>3</th>\n",
       "      <td>http://www.jstor.org/stable/3844072</td>\n",
       "      <td>Shakescorp \"Noir\"</td>\n",
       "      <td>Folger Shakespeare Library</td>\n",
       "      <td>2002</td>\n",
       "      <td>shakescorp noir douglas douglas lanier lanier ...</td>\n",
       "    </tr>\n",
       "    <tr>\n",
       "      <th>4</th>\n",
       "      <td>http://www.jstor.org/stable/2871279</td>\n",
       "      <td>Glass Slippers and Seven-League Boots: C-Promp...</td>\n",
       "      <td>Folger Shakespeare Library</td>\n",
       "      <td>1997</td>\n",
       "      <td>glass slippers doubts about ascribing funeral ...</td>\n",
       "    </tr>\n",
       "  </tbody>\n",
       "</table>\n",
       "</div>"
      ],
      "text/plain": [
       "                                     id  \\\n",
       "0  http://www.jstor.org/stable/24778460   \n",
       "1   http://www.jstor.org/stable/2870867   \n",
       "2   http://www.jstor.org/stable/2871295   \n",
       "3   http://www.jstor.org/stable/3844072   \n",
       "4   http://www.jstor.org/stable/2871279   \n",
       "\n",
       "                                               title  \\\n",
       "0  \"The Killing Stops Here\": Unmaking the Myths o...   \n",
       "1                 The Shenandoah Shakespeare Express   \n",
       "2                       Retrieving Jonson's Petrarch   \n",
       "3                                  Shakescorp \"Noir\"   \n",
       "4  Glass Slippers and Seven-League Boots: C-Promp...   \n",
       "\n",
       "                    publisher  publicationYear  \\\n",
       "0  Folger Shakespeare Library             2013   \n",
       "1  Folger Shakespeare Library             1992   \n",
       "2  Folger Shakespeare Library             1994   \n",
       "3  Folger Shakespeare Library             2002   \n",
       "4  Folger Shakespeare Library             1997   \n",
       "\n",
       "                                                text  \n",
       "0  killing stops unmaking myths troy troy wooster...  \n",
       "1  shakespeare shakespeare shakespeare shakespear...  \n",
       "2  retrieving petrarch petrarch petrarch petrarch...  \n",
       "3  shakescorp noir douglas douglas lanier lanier ...  \n",
       "4  glass slippers doubts about ascribing funeral ...  "
      ]
     },
     "execution_count": 5,
     "metadata": {},
     "output_type": "execute_result"
    }
   ],
   "source": [
    "%%time\n",
    "\n",
    "# Create an empty list to hold documents.\n",
    "dataframe = []\n",
    "\n",
    "# Loop through each document.\n",
    "for document in constellate.dataset_reader(dataset_file):\n",
    "    \n",
    "    doc_data = {} # Create an empty dictionary to hold all information about a single document.\n",
    "    \n",
    "    doc_data['id'] = document['id'] # Add key and value the document's id to dataframe dictionary.\n",
    "    doc_data['title'] = document['title']\n",
    "    doc_data['publisher'] = document['publisher']\n",
    "    doc_data['publicationYear'] = document['publicationYear']\n",
    "    \n",
    "#     Keep data if the publicationYear is later than 1990 and the article isn't a review.\n",
    "    if document['publicationYear'] >= 1990 and doc_data['title'] != 'Review Article':\n",
    "        \n",
    "        processed_document = []\n",
    "        unigrams = document.get('unigramCount', [])\n",
    "        for gram, count in unigrams.items():\n",
    "            clean_gram = process_token(gram)\n",
    "            if clean_gram is None:\n",
    "                continue\n",
    "\n",
    "            processed_document += [clean_gram] * count \n",
    "\n",
    "        doc_data['text'] = processed_document # Add text to dictionary.\n",
    "\n",
    "        dataframe.append(doc_data) # Append document dictionary to dataframe list.\n",
    "    \n",
    "#     Otherwise, ignore and pass to the next.\n",
    "    else:\n",
    "        pass\n",
    "        \n",
    "# Convert list of dictionaries to dataframe.     \n",
    "dataframe = pd.DataFrame(dataframe)\n",
    "\n",
    "# Convert list of unigrams in the 'text' field to string.\n",
    "dataframe['text'] = dataframe['text'].apply(lambda x: ' '.join(x))\n",
    "\n",
    "dataframe.head()"
   ]
  },
  {
   "cell_type": "markdown",
   "id": "35a8f158",
   "metadata": {},
   "source": [
    "#### Examine Document Metadata Fields"
   ]
  },
  {
   "cell_type": "code",
   "execution_count": 6,
   "id": "d2a7f83a",
   "metadata": {},
   "outputs": [
    {
     "name": "stdout",
     "output_type": "stream",
     "text": [
      "\"Keys\" of Each Document\n",
      "\t- id\n",
      "\t- docType\n",
      "\t- title\n",
      "\t- creator\n",
      "\t- isPartOf\n",
      "\t- sourceCategory\n",
      "\t- pageStart\n",
      "\t- url\n",
      "\t- volumeNumber\n",
      "\t- issueNumber\n",
      "\t- language\n",
      "\t- pageEnd\n",
      "\t- pageCount\n",
      "\t- pagination\n",
      "\t- datePublished\n",
      "\t- publicationYear\n",
      "\t- publisher\n",
      "\t- wordCount\n",
      "\t- provider\n",
      "\t- outputFormat\n",
      "\t- identifier\n",
      "\t- unigramCount\n",
      "\t- bigramCount\n",
      "\t- trigramCount\n",
      "CPU times: user 1.5 ms, sys: 1.28 ms, total: 2.79 ms\n",
      "Wall time: 1.85 ms\n"
     ]
    }
   ],
   "source": [
    "%%time\n",
    "\n",
    "print ('\"Keys\" of Each Document')\n",
    "\n",
    "for k in document.keys():\n",
    "    print ('\\t-', k)"
   ]
  },
  {
   "cell_type": "markdown",
   "id": "39f96aa3",
   "metadata": {},
   "source": [
    "## Find TF-IDF of Documents"
   ]
  },
  {
   "cell_type": "code",
   "execution_count": 7,
   "id": "70518803",
   "metadata": {},
   "outputs": [
    {
     "name": "stdout",
     "output_type": "stream",
     "text": [
      "(938, 5669)\n",
      "CPU times: user 2.21 s, sys: 38.6 ms, total: 2.25 s\n",
      "Wall time: 2.28 s\n"
     ]
    }
   ],
   "source": [
    "%%time\n",
    "\n",
    "# Instantiate a vectorizer. \n",
    "tfidf = TfidfVectorizer(\n",
    "    min_df=0.05, \n",
    "    max_df=0.9,\n",
    "    stop_words='english',\n",
    "    encoding='latin-1'\n",
    ")\n",
    "\n",
    "# The features are a matrix.\n",
    "features = tfidf.fit_transform(dataframe['text']).toarray()\n",
    "\n",
    "# Show data size.\n",
    "print (features.shape)"
   ]
  },
  {
   "cell_type": "markdown",
   "id": "90af66b2",
   "metadata": {},
   "source": [
    "## Preparing the Data\n",
    "\n",
    "We are trying to create a matrix: rows and columns with numerical values. More specifically, each row of this matrix will represent a document and the columns will represent the frequency (TF-IDF) of a specific word. We can achieve this transformation by separating out our metadata and then re-shaping the dataframe. Many computational processes expect a matrix-like input. The following code-block, then, can be a useful reference for other projects as well."
   ]
  },
  {
   "cell_type": "code",
   "execution_count": 8,
   "id": "ec4b8937",
   "metadata": {},
   "outputs": [
    {
     "name": "stdout",
     "output_type": "stream",
     "text": [
      "CPU times: user 5.14 ms, sys: 2.77 ms, total: 7.91 ms\n",
      "Wall time: 7.02 ms\n"
     ]
    },
    {
     "data": {
      "text/html": [
       "<div>\n",
       "<style scoped>\n",
       "    .dataframe tbody tr th:only-of-type {\n",
       "        vertical-align: middle;\n",
       "    }\n",
       "\n",
       "    .dataframe tbody tr th {\n",
       "        vertical-align: top;\n",
       "    }\n",
       "\n",
       "    .dataframe thead th {\n",
       "        text-align: right;\n",
       "    }\n",
       "</style>\n",
       "<table border=\"1\" class=\"dataframe\">\n",
       "  <thead>\n",
       "    <tr style=\"text-align: right;\">\n",
       "      <th></th>\n",
       "      <th>aaron</th>\n",
       "      <th>abandon</th>\n",
       "      <th>abandoned</th>\n",
       "      <th>ability</th>\n",
       "      <th>able</th>\n",
       "      <th>ably</th>\n",
       "      <th>abraham</th>\n",
       "      <th>absence</th>\n",
       "      <th>absent</th>\n",
       "      <th>absolute</th>\n",
       "      <th>...</th>\n",
       "      <th>years</th>\n",
       "      <th>yellow</th>\n",
       "      <th>yield</th>\n",
       "      <th>yields</th>\n",
       "      <th>york</th>\n",
       "      <th>yorkshire</th>\n",
       "      <th>young</th>\n",
       "      <th>younger</th>\n",
       "      <th>youth</th>\n",
       "      <th>youthful</th>\n",
       "    </tr>\n",
       "  </thead>\n",
       "  <tbody>\n",
       "    <tr>\n",
       "      <th>0</th>\n",
       "      <td>0.0</td>\n",
       "      <td>0.0</td>\n",
       "      <td>0.0</td>\n",
       "      <td>0.000000</td>\n",
       "      <td>0.022407</td>\n",
       "      <td>0.021964</td>\n",
       "      <td>0.0</td>\n",
       "      <td>0.000000</td>\n",
       "      <td>0.000000</td>\n",
       "      <td>0.0</td>\n",
       "      <td>...</td>\n",
       "      <td>0.029897</td>\n",
       "      <td>0.0</td>\n",
       "      <td>0.0</td>\n",
       "      <td>0.0</td>\n",
       "      <td>0.000000</td>\n",
       "      <td>0.0</td>\n",
       "      <td>0.0</td>\n",
       "      <td>0.0</td>\n",
       "      <td>0.0</td>\n",
       "      <td>0.0</td>\n",
       "    </tr>\n",
       "    <tr>\n",
       "      <th>1</th>\n",
       "      <td>0.0</td>\n",
       "      <td>0.0</td>\n",
       "      <td>0.0</td>\n",
       "      <td>0.018231</td>\n",
       "      <td>0.000000</td>\n",
       "      <td>0.000000</td>\n",
       "      <td>0.0</td>\n",
       "      <td>0.000000</td>\n",
       "      <td>0.023387</td>\n",
       "      <td>0.0</td>\n",
       "      <td>...</td>\n",
       "      <td>0.013681</td>\n",
       "      <td>0.0</td>\n",
       "      <td>0.0</td>\n",
       "      <td>0.0</td>\n",
       "      <td>0.000000</td>\n",
       "      <td>0.0</td>\n",
       "      <td>0.0</td>\n",
       "      <td>0.0</td>\n",
       "      <td>0.0</td>\n",
       "      <td>0.0</td>\n",
       "    </tr>\n",
       "    <tr>\n",
       "      <th>2</th>\n",
       "      <td>0.0</td>\n",
       "      <td>0.0</td>\n",
       "      <td>0.0</td>\n",
       "      <td>0.038370</td>\n",
       "      <td>0.032371</td>\n",
       "      <td>0.000000</td>\n",
       "      <td>0.0</td>\n",
       "      <td>0.038306</td>\n",
       "      <td>0.000000</td>\n",
       "      <td>0.0</td>\n",
       "      <td>...</td>\n",
       "      <td>0.000000</td>\n",
       "      <td>0.0</td>\n",
       "      <td>0.0</td>\n",
       "      <td>0.0</td>\n",
       "      <td>0.094244</td>\n",
       "      <td>0.0</td>\n",
       "      <td>0.0</td>\n",
       "      <td>0.0</td>\n",
       "      <td>0.0</td>\n",
       "      <td>0.0</td>\n",
       "    </tr>\n",
       "  </tbody>\n",
       "</table>\n",
       "<p>3 rows × 5669 columns</p>\n",
       "</div>"
      ],
      "text/plain": [
       "   aaron  abandon  abandoned   ability      able      ably  abraham   absence  \\\n",
       "0    0.0      0.0        0.0  0.000000  0.022407  0.021964      0.0  0.000000   \n",
       "1    0.0      0.0        0.0  0.018231  0.000000  0.000000      0.0  0.000000   \n",
       "2    0.0      0.0        0.0  0.038370  0.032371  0.000000      0.0  0.038306   \n",
       "\n",
       "     absent  absolute  ...     years  yellow  yield  yields      york  \\\n",
       "0  0.000000       0.0  ...  0.029897     0.0    0.0     0.0  0.000000   \n",
       "1  0.023387       0.0  ...  0.013681     0.0    0.0     0.0  0.000000   \n",
       "2  0.000000       0.0  ...  0.000000     0.0    0.0     0.0  0.094244   \n",
       "\n",
       "   yorkshire  young  younger  youth  youthful  \n",
       "0        0.0    0.0      0.0    0.0       0.0  \n",
       "1        0.0    0.0      0.0    0.0       0.0  \n",
       "2        0.0    0.0      0.0    0.0       0.0  \n",
       "\n",
       "[3 rows x 5669 columns]"
      ]
     },
     "execution_count": 8,
     "metadata": {},
     "output_type": "execute_result"
    }
   ],
   "source": [
    "%%time\n",
    "\n",
    "# Create new dataframe with features, using original 'dataframe' index.\n",
    "doc_data = pd.DataFrame(features,\n",
    "                        index = dataframe.index,\n",
    "                        columns = tfidf.get_feature_names())\n",
    "\n",
    "doc_data.head(3)"
   ]
  },
  {
   "cell_type": "markdown",
   "id": "04fc84f6",
   "metadata": {},
   "source": [
    "#### Re-Join Features with Metadata"
   ]
  },
  {
   "cell_type": "code",
   "execution_count": 9,
   "id": "cbba1301",
   "metadata": {},
   "outputs": [
    {
     "name": "stdout",
     "output_type": "stream",
     "text": [
      "CPU times: user 31.7 ms, sys: 11.5 ms, total: 43.2 ms\n",
      "Wall time: 41.5 ms\n"
     ]
    },
    {
     "data": {
      "text/html": [
       "<div>\n",
       "<style scoped>\n",
       "    .dataframe tbody tr th:only-of-type {\n",
       "        vertical-align: middle;\n",
       "    }\n",
       "\n",
       "    .dataframe tbody tr th {\n",
       "        vertical-align: top;\n",
       "    }\n",
       "\n",
       "    .dataframe thead th {\n",
       "        text-align: right;\n",
       "    }\n",
       "</style>\n",
       "<table border=\"1\" class=\"dataframe\">\n",
       "  <thead>\n",
       "    <tr style=\"text-align: right;\">\n",
       "      <th></th>\n",
       "      <th>id</th>\n",
       "      <th>title_x</th>\n",
       "      <th>publisher_x</th>\n",
       "      <th>publicationYear</th>\n",
       "      <th>aaron</th>\n",
       "      <th>abandon</th>\n",
       "      <th>abandoned</th>\n",
       "      <th>ability</th>\n",
       "      <th>able</th>\n",
       "      <th>ably</th>\n",
       "      <th>...</th>\n",
       "      <th>years</th>\n",
       "      <th>yellow</th>\n",
       "      <th>yield</th>\n",
       "      <th>yields</th>\n",
       "      <th>york</th>\n",
       "      <th>yorkshire</th>\n",
       "      <th>young</th>\n",
       "      <th>younger</th>\n",
       "      <th>youth</th>\n",
       "      <th>youthful</th>\n",
       "    </tr>\n",
       "  </thead>\n",
       "  <tbody>\n",
       "    <tr>\n",
       "      <th>0</th>\n",
       "      <td>http://www.jstor.org/stable/24778460</td>\n",
       "      <td>\"The Killing Stops Here\": Unmaking the Myths o...</td>\n",
       "      <td>Folger Shakespeare Library</td>\n",
       "      <td>2013</td>\n",
       "      <td>0.0</td>\n",
       "      <td>0.0</td>\n",
       "      <td>0.0</td>\n",
       "      <td>0.000000</td>\n",
       "      <td>0.022407</td>\n",
       "      <td>0.021964</td>\n",
       "      <td>...</td>\n",
       "      <td>0.029897</td>\n",
       "      <td>0.0</td>\n",
       "      <td>0.0</td>\n",
       "      <td>0.0</td>\n",
       "      <td>0.000000</td>\n",
       "      <td>0.0</td>\n",
       "      <td>0.0</td>\n",
       "      <td>0.0</td>\n",
       "      <td>0.0</td>\n",
       "      <td>0.0</td>\n",
       "    </tr>\n",
       "    <tr>\n",
       "      <th>1</th>\n",
       "      <td>http://www.jstor.org/stable/2870867</td>\n",
       "      <td>The Shenandoah Shakespeare Express</td>\n",
       "      <td>Folger Shakespeare Library</td>\n",
       "      <td>1992</td>\n",
       "      <td>0.0</td>\n",
       "      <td>0.0</td>\n",
       "      <td>0.0</td>\n",
       "      <td>0.018231</td>\n",
       "      <td>0.000000</td>\n",
       "      <td>0.000000</td>\n",
       "      <td>...</td>\n",
       "      <td>0.013681</td>\n",
       "      <td>0.0</td>\n",
       "      <td>0.0</td>\n",
       "      <td>0.0</td>\n",
       "      <td>0.000000</td>\n",
       "      <td>0.0</td>\n",
       "      <td>0.0</td>\n",
       "      <td>0.0</td>\n",
       "      <td>0.0</td>\n",
       "      <td>0.0</td>\n",
       "    </tr>\n",
       "    <tr>\n",
       "      <th>2</th>\n",
       "      <td>http://www.jstor.org/stable/2871295</td>\n",
       "      <td>Retrieving Jonson's Petrarch</td>\n",
       "      <td>Folger Shakespeare Library</td>\n",
       "      <td>1994</td>\n",
       "      <td>0.0</td>\n",
       "      <td>0.0</td>\n",
       "      <td>0.0</td>\n",
       "      <td>0.038370</td>\n",
       "      <td>0.032371</td>\n",
       "      <td>0.000000</td>\n",
       "      <td>...</td>\n",
       "      <td>0.000000</td>\n",
       "      <td>0.0</td>\n",
       "      <td>0.0</td>\n",
       "      <td>0.0</td>\n",
       "      <td>0.094244</td>\n",
       "      <td>0.0</td>\n",
       "      <td>0.0</td>\n",
       "      <td>0.0</td>\n",
       "      <td>0.0</td>\n",
       "      <td>0.0</td>\n",
       "    </tr>\n",
       "  </tbody>\n",
       "</table>\n",
       "<p>3 rows × 5673 columns</p>\n",
       "</div>"
      ],
      "text/plain": [
       "                                     id  \\\n",
       "0  http://www.jstor.org/stable/24778460   \n",
       "1   http://www.jstor.org/stable/2870867   \n",
       "2   http://www.jstor.org/stable/2871295   \n",
       "\n",
       "                                             title_x  \\\n",
       "0  \"The Killing Stops Here\": Unmaking the Myths o...   \n",
       "1                 The Shenandoah Shakespeare Express   \n",
       "2                       Retrieving Jonson's Petrarch   \n",
       "\n",
       "                  publisher_x  publicationYear  aaron  abandon  abandoned  \\\n",
       "0  Folger Shakespeare Library             2013    0.0      0.0        0.0   \n",
       "1  Folger Shakespeare Library             1992    0.0      0.0        0.0   \n",
       "2  Folger Shakespeare Library             1994    0.0      0.0        0.0   \n",
       "\n",
       "    ability      able      ably  ...     years  yellow  yield  yields  \\\n",
       "0  0.000000  0.022407  0.021964  ...  0.029897     0.0    0.0     0.0   \n",
       "1  0.018231  0.000000  0.000000  ...  0.013681     0.0    0.0     0.0   \n",
       "2  0.038370  0.032371  0.000000  ...  0.000000     0.0    0.0     0.0   \n",
       "\n",
       "       york  yorkshire  young  younger  youth  youthful  \n",
       "0  0.000000        0.0    0.0      0.0    0.0       0.0  \n",
       "1  0.000000        0.0    0.0      0.0    0.0       0.0  \n",
       "2  0.094244        0.0    0.0      0.0    0.0       0.0  \n",
       "\n",
       "[3 rows x 5673 columns]"
      ]
     },
     "execution_count": 9,
     "metadata": {},
     "output_type": "execute_result"
    }
   ],
   "source": [
    "%%time\n",
    "\n",
    "# Re-join features dataframe with metadata.\n",
    "# Drop text column now that we have features.\n",
    "dataframe = dataframe \\\n",
    "    .drop(columns = ['text']) \\\n",
    "    .merge(doc_data, left_index=True, right_index=True, how = 'inner') # merge data where left and right indices match.\n",
    "\n",
    "dataframe.head(3)"
   ]
  },
  {
   "cell_type": "markdown",
   "id": "6fccc0df",
   "metadata": {},
   "source": [
    "> <b>Tip:</b> We can use `\\` at the end a line and start a new line. This helps with readability.\n",
    "\n",
    "When merging the two dataframes (features and metadata), pandas found two columns with the same name: title. One refers to the metadata, the title of the article. The other refers to the word \"title\" as it appears within the article. Pandas distinguishes between the two by adding \"_x\" to the first."
   ]
  },
  {
   "cell_type": "code",
   "execution_count": 10,
   "id": "4b03ba23",
   "metadata": {},
   "outputs": [
    {
     "name": "stdout",
     "output_type": "stream",
     "text": [
      "CPU times: user 30.6 ms, sys: 23.1 ms, total: 53.7 ms\n",
      "Wall time: 52.6 ms\n"
     ]
    },
    {
     "data": {
      "text/html": [
       "<div>\n",
       "<style scoped>\n",
       "    .dataframe tbody tr th:only-of-type {\n",
       "        vertical-align: middle;\n",
       "    }\n",
       "\n",
       "    .dataframe tbody tr th {\n",
       "        vertical-align: top;\n",
       "    }\n",
       "\n",
       "    .dataframe thead th {\n",
       "        text-align: right;\n",
       "    }\n",
       "</style>\n",
       "<table border=\"1\" class=\"dataframe\">\n",
       "  <thead>\n",
       "    <tr style=\"text-align: right;\">\n",
       "      <th></th>\n",
       "      <th>id</th>\n",
       "      <th>meta_title</th>\n",
       "      <th>meta_publisher</th>\n",
       "      <th>publicationYear</th>\n",
       "      <th>aaron</th>\n",
       "      <th>abandon</th>\n",
       "      <th>abandoned</th>\n",
       "      <th>ability</th>\n",
       "      <th>able</th>\n",
       "      <th>ably</th>\n",
       "      <th>...</th>\n",
       "      <th>years</th>\n",
       "      <th>yellow</th>\n",
       "      <th>yield</th>\n",
       "      <th>yields</th>\n",
       "      <th>york</th>\n",
       "      <th>yorkshire</th>\n",
       "      <th>young</th>\n",
       "      <th>younger</th>\n",
       "      <th>youth</th>\n",
       "      <th>youthful</th>\n",
       "    </tr>\n",
       "  </thead>\n",
       "  <tbody>\n",
       "    <tr>\n",
       "      <th>0</th>\n",
       "      <td>http://www.jstor.org/stable/24778460</td>\n",
       "      <td>\"The Killing Stops Here\": Unmaking the Myths o...</td>\n",
       "      <td>Folger Shakespeare Library</td>\n",
       "      <td>2013</td>\n",
       "      <td>0.0</td>\n",
       "      <td>0.0</td>\n",
       "      <td>0.0</td>\n",
       "      <td>0.000000</td>\n",
       "      <td>0.022407</td>\n",
       "      <td>0.021964</td>\n",
       "      <td>...</td>\n",
       "      <td>0.029897</td>\n",
       "      <td>0.0</td>\n",
       "      <td>0.0</td>\n",
       "      <td>0.0</td>\n",
       "      <td>0.0</td>\n",
       "      <td>0.0</td>\n",
       "      <td>0.0</td>\n",
       "      <td>0.0</td>\n",
       "      <td>0.0</td>\n",
       "      <td>0.0</td>\n",
       "    </tr>\n",
       "    <tr>\n",
       "      <th>1</th>\n",
       "      <td>http://www.jstor.org/stable/2870867</td>\n",
       "      <td>The Shenandoah Shakespeare Express</td>\n",
       "      <td>Folger Shakespeare Library</td>\n",
       "      <td>1992</td>\n",
       "      <td>0.0</td>\n",
       "      <td>0.0</td>\n",
       "      <td>0.0</td>\n",
       "      <td>0.018231</td>\n",
       "      <td>0.000000</td>\n",
       "      <td>0.000000</td>\n",
       "      <td>...</td>\n",
       "      <td>0.013681</td>\n",
       "      <td>0.0</td>\n",
       "      <td>0.0</td>\n",
       "      <td>0.0</td>\n",
       "      <td>0.0</td>\n",
       "      <td>0.0</td>\n",
       "      <td>0.0</td>\n",
       "      <td>0.0</td>\n",
       "      <td>0.0</td>\n",
       "      <td>0.0</td>\n",
       "    </tr>\n",
       "  </tbody>\n",
       "</table>\n",
       "<p>2 rows × 5673 columns</p>\n",
       "</div>"
      ],
      "text/plain": [
       "                                     id  \\\n",
       "0  http://www.jstor.org/stable/24778460   \n",
       "1   http://www.jstor.org/stable/2870867   \n",
       "\n",
       "                                          meta_title  \\\n",
       "0  \"The Killing Stops Here\": Unmaking the Myths o...   \n",
       "1                 The Shenandoah Shakespeare Express   \n",
       "\n",
       "               meta_publisher  publicationYear  aaron  abandon  abandoned  \\\n",
       "0  Folger Shakespeare Library             2013    0.0      0.0        0.0   \n",
       "1  Folger Shakespeare Library             1992    0.0      0.0        0.0   \n",
       "\n",
       "    ability      able      ably  ...     years  yellow  yield  yields  york  \\\n",
       "0  0.000000  0.022407  0.021964  ...  0.029897     0.0    0.0     0.0   0.0   \n",
       "1  0.018231  0.000000  0.000000  ...  0.013681     0.0    0.0     0.0   0.0   \n",
       "\n",
       "   yorkshire  young  younger  youth  youthful  \n",
       "0        0.0    0.0      0.0    0.0       0.0  \n",
       "1        0.0    0.0      0.0    0.0       0.0  \n",
       "\n",
       "[2 rows x 5673 columns]"
      ]
     },
     "execution_count": 10,
     "metadata": {},
     "output_type": "execute_result"
    }
   ],
   "source": [
    "%%time\n",
    "\n",
    "# Rename column for clarity.\n",
    "dataframe = dataframe.rename(columns = {'title_x': 'meta_title', 'publisher_x': 'meta_publisher'})\n",
    "\n",
    "dataframe.head(2)"
   ]
  },
  {
   "cell_type": "markdown",
   "id": "868cec37",
   "metadata": {},
   "source": [
    "## Scale Data\n",
    "\n",
    "Scaling data is a crucial step when using most kinds of machine learning methods. Scaling is a process that standardizes the values of a matrix (the tf/idf values of our words' columns). This is an important step because it prevents outliers, values with a very high or low value, from skewing our data. "
   ]
  },
  {
   "cell_type": "code",
   "execution_count": 11,
   "id": "e5ae4bca",
   "metadata": {},
   "outputs": [
    {
     "name": "stdout",
     "output_type": "stream",
     "text": [
      "CPU times: user 77.9 ms, sys: 10.1 ms, total: 88 ms\n",
      "Wall time: 86.5 ms\n"
     ]
    },
    {
     "data": {
      "text/plain": [
       "array([[-0.16211207, -0.22472067, -0.23558933, ..., -0.25600675,\n",
       "        -0.26062388, -0.17807122],\n",
       "       [-0.16211207, -0.22472067, -0.23558933, ..., -0.25600675,\n",
       "        -0.26062388, -0.17807122],\n",
       "       [-0.16211207, -0.22472067, -0.23558933, ..., -0.25600675,\n",
       "        -0.26062388, -0.17807122],\n",
       "       ...,\n",
       "       [-0.16211207, -0.22472067, -0.23558933, ..., -0.25600675,\n",
       "        -0.26062388, -0.17807122],\n",
       "       [-0.16211207, -0.22472067, -0.23558933, ...,  0.18059156,\n",
       "        -0.26062388, -0.17807122],\n",
       "       [-0.01826955, -0.22472067, -0.15242352, ..., -0.17627247,\n",
       "         0.29642294,  0.01467327]])"
      ]
     },
     "execution_count": 11,
     "metadata": {},
     "output_type": "execute_result"
    }
   ],
   "source": [
    "%%time\n",
    "\n",
    "# Overwrite features data with scaled version.\n",
    "features = StandardScaler() \\\n",
    "    .fit_transform(features)\n",
    "\n",
    "features"
   ]
  },
  {
   "cell_type": "markdown",
   "id": "62260825",
   "metadata": {},
   "source": [
    "It can be difficult to read, but `features` is now an array (or matrix). It has retained the same shape of rows and columns as before, but now that we've scaled the data, the values are compressed to avoid skewing too far in any direction.\n",
    "\n",
    "## Principal Component Analysis (PCA)\n",
    "\n",
    "Principal component analysis is a method to reduce data so it can be represented in two- or three-dimensional space. This is referred to as <b>dimensionality reduction</b> But, what does that mean? Currently, our data has 5,670 dimensions that we're interested in: all the word columns minus the three metadata fields. While the computer can hold all the dimensions in memory, I can't. So, PCA is a way to cut away data that it believes is unnecessary for distinguishing between observations.\n",
    "\n",
    "![PCA Simplified](assets/images/PCA_simplified.png \"PCA Simplified\")\n",
    "\n",
    "How does it determine which columns (words) are more useful for distinguishing between documents, though? PCA looks at each column and finds the column with the greatest variance. That is, the column with the largest range of values. The actual math that finds variation is much more complicated than this, but, for our purposes, we only need to grasp the fundamental transformation."
   ]
  },
  {
   "cell_type": "code",
   "execution_count": 12,
   "id": "4cccdacb",
   "metadata": {},
   "outputs": [
    {
     "name": "stdout",
     "output_type": "stream",
     "text": [
      "CPU times: user 505 ms, sys: 33.2 ms, total: 538 ms\n",
      "Wall time: 124 ms\n"
     ]
    },
    {
     "data": {
      "text/html": [
       "<div>\n",
       "<style scoped>\n",
       "    .dataframe tbody tr th:only-of-type {\n",
       "        vertical-align: middle;\n",
       "    }\n",
       "\n",
       "    .dataframe tbody tr th {\n",
       "        vertical-align: top;\n",
       "    }\n",
       "\n",
       "    .dataframe thead th {\n",
       "        text-align: right;\n",
       "    }\n",
       "</style>\n",
       "<table border=\"1\" class=\"dataframe\">\n",
       "  <thead>\n",
       "    <tr style=\"text-align: right;\">\n",
       "      <th></th>\n",
       "      <th>pc1</th>\n",
       "      <th>pc2</th>\n",
       "    </tr>\n",
       "  </thead>\n",
       "  <tbody>\n",
       "    <tr>\n",
       "      <th>0</th>\n",
       "      <td>9.249441</td>\n",
       "      <td>5.596490</td>\n",
       "    </tr>\n",
       "    <tr>\n",
       "      <th>1</th>\n",
       "      <td>5.574416</td>\n",
       "      <td>9.926156</td>\n",
       "    </tr>\n",
       "    <tr>\n",
       "      <th>2</th>\n",
       "      <td>-1.292714</td>\n",
       "      <td>2.182451</td>\n",
       "    </tr>\n",
       "    <tr>\n",
       "      <th>3</th>\n",
       "      <td>10.189810</td>\n",
       "      <td>-4.105580</td>\n",
       "    </tr>\n",
       "    <tr>\n",
       "      <th>4</th>\n",
       "      <td>5.923143</td>\n",
       "      <td>0.805478</td>\n",
       "    </tr>\n",
       "  </tbody>\n",
       "</table>\n",
       "</div>"
      ],
      "text/plain": [
       "         pc1       pc2\n",
       "0   9.249441  5.596490\n",
       "1   5.574416  9.926156\n",
       "2  -1.292714  2.182451\n",
       "3  10.189810 -4.105580\n",
       "4   5.923143  0.805478"
      ]
     },
     "execution_count": 12,
     "metadata": {},
     "output_type": "execute_result"
    }
   ],
   "source": [
    "%%time\n",
    "\n",
    "# We'll instantiate a PCA model and limit it to two principal components.\n",
    "pca = PCA(n_components = 2)\n",
    "\n",
    "# We'll fit the now-scaled features to the PCA model.\n",
    "components = pca.fit_transform(features)\n",
    "\n",
    "# We'll then convert to a dataframe, still using the same index of our original dataframe.\n",
    "pcaDF = pd.DataFrame(data = components, \n",
    "                           columns = ['pc1', 'pc2'],\n",
    "                           index = dataframe.index)\n",
    "\n",
    "pcaDF.head()"
   ]
  },
  {
   "cell_type": "markdown",
   "id": "527f7e4c",
   "metadata": {},
   "source": [
    "We now have the principal components of our dataset and reduced our 5,670 dimensions to just two. While this may seem like a loss of information, it's often necessary for us to make sense of our data.\n",
    "\n",
    "One thing we could do is re-join the words with their principal components. This would show use which words played a big role in determining the similarity of each document."
   ]
  },
  {
   "cell_type": "code",
   "execution_count": 13,
   "id": "f66a495d",
   "metadata": {},
   "outputs": [
    {
     "name": "stdout",
     "output_type": "stream",
     "text": [
      "CPU times: user 30.8 ms, sys: 1.13 ms, total: 31.9 ms\n",
      "Wall time: 5.42 ms\n"
     ]
    },
    {
     "data": {
      "text/html": [
       "<div>\n",
       "<style scoped>\n",
       "    .dataframe tbody tr th:only-of-type {\n",
       "        vertical-align: middle;\n",
       "    }\n",
       "\n",
       "    .dataframe tbody tr th {\n",
       "        vertical-align: top;\n",
       "    }\n",
       "\n",
       "    .dataframe thead th {\n",
       "        text-align: right;\n",
       "    }\n",
       "</style>\n",
       "<table border=\"1\" class=\"dataframe\">\n",
       "  <thead>\n",
       "    <tr style=\"text-align: right;\">\n",
       "      <th></th>\n",
       "      <th>0</th>\n",
       "      <th>1</th>\n",
       "    </tr>\n",
       "  </thead>\n",
       "  <tbody>\n",
       "    <tr>\n",
       "      <th>0</th>\n",
       "      <td>PC0</td>\n",
       "      <td>university</td>\n",
       "    </tr>\n",
       "    <tr>\n",
       "      <th>1</th>\n",
       "      <td>PC1</td>\n",
       "      <td>production</td>\n",
       "    </tr>\n",
       "  </tbody>\n",
       "</table>\n",
       "</div>"
      ],
      "text/plain": [
       "     0           1\n",
       "0  PC0  university\n",
       "1  PC1  production"
      ]
     },
     "execution_count": 13,
     "metadata": {},
     "output_type": "execute_result"
    }
   ],
   "source": [
    "%%time\n",
    "\n",
    "# Get the most important features and their names for each component.\n",
    "most_important_feats = [np.abs(pca.components_[i]).argmax() for i in range(2)]\n",
    "\n",
    "feat_names = tfidf.get_feature_names()\n",
    "\n",
    "most_important_words = [feat_names[most_important_feats[i]] for i in range(2)]\n",
    "\n",
    "# Join most important words with their component.\n",
    "feat_dict = {'PC{}'.format(i): most_important_words[i] for i in range(2)}\n",
    "\n",
    "feat_df = pd.DataFrame(feat_dict.items())\n",
    "\n",
    "# Show dataframe.\n",
    "feat_df"
   ]
  },
  {
   "cell_type": "markdown",
   "id": "9fe5cbd3",
   "metadata": {},
   "source": [
    "But, these new information still doesn't provide us with much information we can interpret. That is, we still can't see any clusters.\n",
    "\n",
    "## Visualize\n",
    "\n",
    "Fortunately, we can treat our first and second principal components as x and y coordinates. This way we can visualize each document as a point in a scatterplot."
   ]
  },
  {
   "cell_type": "code",
   "execution_count": 14,
   "id": "49c525bd",
   "metadata": {},
   "outputs": [
    {
     "data": {
      "image/png": "[encoded data removed]",
      "text/plain": [
       "<Figure size 432x288 with 1 Axes>"
      ]
     },
     "metadata": {
      "needs_background": "light"
     },
     "output_type": "display_data"
    },
    {
     "name": "stdout",
     "output_type": "stream",
     "text": [
      "CPU times: user 762 ms, sys: 15.5 ms, total: 777 ms\n",
      "Wall time: 131 ms\n"
     ]
    }
   ],
   "source": [
    "%%time\n",
    "\n",
    "# Sns (seaborn) is a simple and lightweight visualization library, which makes it useful for data exploration.\n",
    "sns.scatterplot(\n",
    "    data = pcaDF,\n",
    "    x = 'pc1', y = 'pc2'\n",
    ")\n",
    "\n",
    "# We'll call plt (matplotlib) to show the plot below.\n",
    "plt.show()"
   ]
  },
  {
   "cell_type": "markdown",
   "id": "2fdbaa62",
   "metadata": {},
   "source": [
    "## Clustering\n",
    "\n",
    "We have now reduced our data to two dimensions and plotted into 2d space. But, we still can't quite see clusters. We could try to eye-ball in, but this wouldn't be precise and would make referencing nearly impossible.\n",
    "\n",
    "Instead, we can use k-means clustering. K-means clustering attempts to partition data points into different groups. These clusters are determined by how close a datapoint is to the nearest mean of a cluster. As we'll see, we set how many clusters we want the algorithm to find. It then takes a look at every data point and places each cluster's centroid (the mean) within the datapoints. The datapoints then join the closest centroid and form a cluster.\n",
    "\n",
    "Again, the math is more complicated here but we're focused on the transformation itself."
   ]
  },
  {
   "cell_type": "code",
   "execution_count": 15,
   "id": "19c78e57",
   "metadata": {},
   "outputs": [
    {
     "name": "stdout",
     "output_type": "stream",
     "text": [
      "CPU times: user 189 ms, sys: 12.9 ms, total: 202 ms\n",
      "Wall time: 56.8 ms\n"
     ]
    }
   ],
   "source": [
    "%%time\n",
    "\n",
    "model = KMeans(n_clusters = 5, random_state = 0) \n",
    "\n",
    "predictions = model.fit_predict(components)\n",
    "\n",
    "pcaDF['meta_cluster'] = predictions # append cluster predictions to principal components.\n",
    "pcaDF['meta_publisher'] = dataframe['meta_publisher'] # include publisher if you want to visualize that instead."
   ]
  },
  {
   "cell_type": "markdown",
   "id": "1d3bef63",
   "metadata": {},
   "source": [
    "#### Append Cluster Labels to Dataframe"
   ]
  },
  {
   "cell_type": "code",
   "execution_count": 16,
   "id": "7e72d2a3",
   "metadata": {},
   "outputs": [
    {
     "data": {
      "image/png": "[encoded data removed]",
      "text/plain": [
       "<Figure size 432x288 with 1 Axes>"
      ]
     },
     "metadata": {
      "needs_background": "light"
     },
     "output_type": "display_data"
    },
    {
     "name": "stdout",
     "output_type": "stream",
     "text": [
      "CPU times: user 726 ms, sys: 16.7 ms, total: 743 ms\n",
      "Wall time: 187 ms\n"
     ]
    }
   ],
   "source": [
    "%%time\n",
    "\n",
    "# Seaborn will read the labels as numerical and apply a gradient color scheme.\n",
    "# Instead, we want to treat the labels as categorical, so we will change them from integers to strings.\n",
    "pcaDF['meta_cluster'] = pcaDF['meta_cluster'].astype(str)\n",
    "\n",
    "sns.scatterplot(\n",
    "    data = pcaDF,\n",
    "    x = 'pc1', y = 'pc2',\n",
    "    hue = 'meta_cluster'\n",
    ")\n",
    "\n",
    "plt.show()"
   ]
  },
  {
   "cell_type": "markdown",
   "id": "84a0e386",
   "metadata": {},
   "source": [
    "We can now see five groups within our dataset. As an exploration, we can begin to describe some patterns. This hopefully will lead us to more questions and move us from exploration to data analysis. Do these clusters describe some large practice within the scholarship of the journal? What happens if we add earlier documents and used the publicationYear to color each datapoint? \n",
    "\n",
    "## Conclusion\n",
    "\n",
    "The methods used in this notebook are specific to PCA and K-Means clustering. But, the data transformations we used to get there make it applicable to other machine learning processes as well. We can, therefore, repeat the first half of this notebook and use our familiarity with scikit-learn now to try out other methods!"
   ]
  }
 ],
 "metadata": {
  "kernelspec": {
   "display_name": "Python 3 (ipykernel)",
   "language": "python",
   "name": "python3"
  },
  "language_info": {
   "codemirror_mode": {
    "name": "ipython",
    "version": 3
   },
   "file_extension": ".py",
   "mimetype": "text/x-python",
   "name": "python",
   "nbconvert_exporter": "python",
   "pygments_lexer": "ipython3",
   "version": "3.8.5"
  }
 },
 "nbformat": 4,
 "nbformat_minor": 5
}
