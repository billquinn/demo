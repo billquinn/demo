{
 "cells": [
  {
   "cell_type": "markdown",
   "id": "452e5525",
   "metadata": {},
   "source": [
    "# Teaching Demo — \n",
    "\n",
    "Bill Quinn\n",
    "May 10, 2022\n",
    "\n",
    "## Goals\n",
    "\n",
    "1. \n",
    "\n",
    "## Suggested \n",
    "\n",
    "## Overview\n",
    "\n",
    "1. Load necessary libraries."
   ]
  },
  {
   "cell_type": "markdown",
   "id": "cf8a953f",
   "metadata": {},
   "source": [
    "### Importing Libraries"
   ]
  },
  {
   "cell_type": "code",
   "execution_count": 1,
   "id": "35957fe5",
   "metadata": {},
   "outputs": [
    {
     "name": "stdout",
     "output_type": "stream",
     "text": [
      "Constellate: use and download of datasets is covered by the Terms & Conditions of Use: https://constellate.org/terms-and-conditions/\n"
     ]
    }
   ],
   "source": [
    "import constellate\n",
    "import pandas as pd\n",
    "import numpy as np\n",
    "\n",
    "from sklearn.feature_extraction.text import TfidfVectorizer\n",
    "from sklearn.preprocessing import StandardScaler\n",
    "from sklearn.decomposition import PCA\n",
    "from sklearn.cluster import KMeans\n",
    "\n",
    "import seaborn as sns\n",
    "import matplotlib.pyplot as plt"
   ]
  },
  {
   "cell_type": "markdown",
   "id": "0651a10a",
   "metadata": {},
   "source": [
    "### Importing Data from Constellate"
   ]
  },
  {
   "cell_type": "code",
   "execution_count": 2,
   "id": "856ff255",
   "metadata": {},
   "outputs": [
    {
     "name": "stdout",
     "output_type": "stream",
     "text": [
      "All documents from JSTOR published in Shakespeare Quarterly from 1950 - 2020. 6745 documents.\n",
      "INFO:root:File /Users/williamquinn/data/7e41317e-740f-e86a-4729-20dab492e925.jsonl.gz exists. Not re-downloading.\n",
      "CPU times: user 28.8 ms, sys: 14.1 ms, total: 42.9 ms\n",
      "Wall time: 538 ms\n"
     ]
    }
   ],
   "source": [
    "%%time\n",
    "\n",
    "dataset_id = '7e41317e-740f-e86a-4729-20dab492e925'\n",
    "\n",
    "dataset_file = constellate.download(dataset_id, 'jsonl')"
   ]
  },
  {
   "cell_type": "markdown",
   "id": "08845709",
   "metadata": {},
   "source": [
    "#### Create functions for cleaning data"
   ]
  },
  {
   "cell_type": "code",
   "execution_count": 3,
   "id": "a72f8c05",
   "metadata": {},
   "outputs": [
    {
     "name": "stdout",
     "output_type": "stream",
     "text": [
      "CPU times: user 6 µs, sys: 1e+03 ns, total: 7 µs\n",
      "Wall time: 11.9 µs\n"
     ]
    }
   ],
   "source": [
    "%%time\n",
    "\n",
    "# Define a function that will process individual tokens\n",
    "# Only a token that passes through all three `if` \n",
    "# statements will be returned. A `True` result for\n",
    "# any `if` statement does not return the token. \n",
    "def process_token(token):\n",
    "    token = token.lower()\n",
    "    if len(token) < 4: # If True, do not return token\n",
    "        return None\n",
    "    if not(token.isalpha()): # If True, do not return token\n",
    "        return None\n",
    "    return token # If all are False, return the lowercased token"
   ]
  },
  {
   "cell_type": "code",
   "execution_count": 4,
   "id": "cff4efc1",
   "metadata": {},
   "outputs": [
    {
     "name": "stdout",
     "output_type": "stream",
     "text": [
      "CPU times: user 36.9 s, sys: 2.14 s, total: 39 s\n",
      "Wall time: 39.2 s\n"
     ]
    },
    {
     "data": {
      "text/html": [
       "<div>\n",
       "<style scoped>\n",
       "    .dataframe tbody tr th:only-of-type {\n",
       "        vertical-align: middle;\n",
       "    }\n",
       "\n",
       "    .dataframe tbody tr th {\n",
       "        vertical-align: top;\n",
       "    }\n",
       "\n",
       "    .dataframe thead th {\n",
       "        text-align: right;\n",
       "    }\n",
       "</style>\n",
       "<table border=\"1\" class=\"dataframe\">\n",
       "  <thead>\n",
       "    <tr style=\"text-align: right;\">\n",
       "      <th></th>\n",
       "      <th>id</th>\n",
       "      <th>title</th>\n",
       "      <th>publisher</th>\n",
       "      <th>publicationYear</th>\n",
       "      <th>text</th>\n",
       "    </tr>\n",
       "  </thead>\n",
       "  <tbody>\n",
       "    <tr>\n",
       "      <th>0</th>\n",
       "      <td>http://www.jstor.org/stable/24778460</td>\n",
       "      <td>\"The Killing Stops Here\": Unmaking the Myths o...</td>\n",
       "      <td>Folger Shakespeare Library</td>\n",
       "      <td>2013</td>\n",
       "      <td>killing stops unmaking myths troy troy wooster...</td>\n",
       "    </tr>\n",
       "    <tr>\n",
       "      <th>1</th>\n",
       "      <td>http://www.jstor.org/stable/2870867</td>\n",
       "      <td>The Shenandoah Shakespeare Express</td>\n",
       "      <td>Folger Shakespeare Library</td>\n",
       "      <td>1992</td>\n",
       "      <td>shakespeare shakespeare shakespeare shakespear...</td>\n",
       "    </tr>\n",
       "    <tr>\n",
       "      <th>2</th>\n",
       "      <td>http://www.jstor.org/stable/2871295</td>\n",
       "      <td>Retrieving Jonson's Petrarch</td>\n",
       "      <td>Folger Shakespeare Library</td>\n",
       "      <td>1994</td>\n",
       "      <td>retrieving petrarch petrarch petrarch petrarch...</td>\n",
       "    </tr>\n",
       "    <tr>\n",
       "      <th>3</th>\n",
       "      <td>http://www.jstor.org/stable/3844072</td>\n",
       "      <td>Shakescorp \"Noir\"</td>\n",
       "      <td>Folger Shakespeare Library</td>\n",
       "      <td>2002</td>\n",
       "      <td>shakescorp noir douglas douglas lanier lanier ...</td>\n",
       "    </tr>\n",
       "    <tr>\n",
       "      <th>4</th>\n",
       "      <td>http://www.jstor.org/stable/2871279</td>\n",
       "      <td>Glass Slippers and Seven-League Boots: C-Promp...</td>\n",
       "      <td>Folger Shakespeare Library</td>\n",
       "      <td>1997</td>\n",
       "      <td>glass slippers doubts about ascribing funeral ...</td>\n",
       "    </tr>\n",
       "  </tbody>\n",
       "</table>\n",
       "</div>"
      ],
      "text/plain": [
       "                                     id  \\\n",
       "0  http://www.jstor.org/stable/24778460   \n",
       "1   http://www.jstor.org/stable/2870867   \n",
       "2   http://www.jstor.org/stable/2871295   \n",
       "3   http://www.jstor.org/stable/3844072   \n",
       "4   http://www.jstor.org/stable/2871279   \n",
       "\n",
       "                                               title  \\\n",
       "0  \"The Killing Stops Here\": Unmaking the Myths o...   \n",
       "1                 The Shenandoah Shakespeare Express   \n",
       "2                       Retrieving Jonson's Petrarch   \n",
       "3                                  Shakescorp \"Noir\"   \n",
       "4  Glass Slippers and Seven-League Boots: C-Promp...   \n",
       "\n",
       "                    publisher  publicationYear  \\\n",
       "0  Folger Shakespeare Library             2013   \n",
       "1  Folger Shakespeare Library             1992   \n",
       "2  Folger Shakespeare Library             1994   \n",
       "3  Folger Shakespeare Library             2002   \n",
       "4  Folger Shakespeare Library             1997   \n",
       "\n",
       "                                                text  \n",
       "0  killing stops unmaking myths troy troy wooster...  \n",
       "1  shakespeare shakespeare shakespeare shakespear...  \n",
       "2  retrieving petrarch petrarch petrarch petrarch...  \n",
       "3  shakescorp noir douglas douglas lanier lanier ...  \n",
       "4  glass slippers doubts about ascribing funeral ...  "
      ]
     },
     "execution_count": 4,
     "metadata": {},
     "output_type": "execute_result"
    }
   ],
   "source": [
    "%%time\n",
    "\n",
    "# Create an empty list to hold documents.\n",
    "dataframe = []\n",
    "\n",
    "# Loop through each document.\n",
    "for document in constellate.dataset_reader(dataset_file):\n",
    "    \n",
    "    doc_data = {} # Create an empty dictionary to hold all information about a single document.\n",
    "    \n",
    "    doc_data['id'] = document['id'] # Add key and value the document's id to dataframe dictionary.\n",
    "    doc_data['title'] = document['title']\n",
    "    doc_data['publisher'] = document['publisher']\n",
    "    doc_data['publicationYear'] = document['publicationYear']\n",
    "    \n",
    "#     Keep data if the publicationYear is later than 1990 and the article isn't a review.\n",
    "    if document['publicationYear'] >= 1990 and doc_data['title'] != 'Review Article':\n",
    "        \n",
    "        processed_document = []\n",
    "        unigrams = document.get('unigramCount', [])\n",
    "        for gram, count in unigrams.items():\n",
    "            clean_gram = process_token(gram)\n",
    "            if clean_gram is None:\n",
    "                continue\n",
    "\n",
    "            processed_document += [clean_gram] * count \n",
    "\n",
    "        doc_data['text'] = processed_document # Add text to dictionary.\n",
    "\n",
    "        dataframe.append(doc_data) # Append document dictionary to dataframe list.\n",
    "    \n",
    "#     Otherwise, ignore and pass to the next.\n",
    "    else:\n",
    "        pass\n",
    "        \n",
    "# Convert list of dictionaries to dataframe.     \n",
    "dataframe = pd.DataFrame(dataframe)\n",
    "\n",
    "# Convert list of unigrams in the 'text' field to string.\n",
    "dataframe['text'] = dataframe['text'].apply(lambda x: ' '.join(x))\n",
    "\n",
    "dataframe.head()"
   ]
  },
  {
   "cell_type": "code",
   "execution_count": 5,
   "id": "77b8ce6c",
   "metadata": {},
   "outputs": [
    {
     "data": {
      "text/plain": [
       "'/Users/williamquinn/data/7e41317e-740f-e86a-4729-20dab492e925.jsonl.gz'"
      ]
     },
     "execution_count": 5,
     "metadata": {},
     "output_type": "execute_result"
    }
   ],
   "source": [
    "dataset_file"
   ]
  },
  {
   "cell_type": "markdown",
   "id": "35a8f158",
   "metadata": {},
   "source": [
    "#### Examine Document Metadata Fields"
   ]
  },
  {
   "cell_type": "code",
   "execution_count": 6,
   "id": "d2a7f83a",
   "metadata": {},
   "outputs": [
    {
     "name": "stdout",
     "output_type": "stream",
     "text": [
      "\"Keys\" of Each Document\n",
      "\t- id\n",
      "\t- docType\n",
      "\t- title\n",
      "\t- creator\n",
      "\t- isPartOf\n",
      "\t- sourceCategory\n",
      "\t- pageStart\n",
      "\t- url\n",
      "\t- volumeNumber\n",
      "\t- issueNumber\n",
      "\t- language\n",
      "\t- pageEnd\n",
      "\t- pageCount\n",
      "\t- pagination\n",
      "\t- datePublished\n",
      "\t- publicationYear\n",
      "\t- publisher\n",
      "\t- wordCount\n",
      "\t- provider\n",
      "\t- outputFormat\n",
      "\t- identifier\n",
      "\t- unigramCount\n",
      "\t- bigramCount\n",
      "\t- trigramCount\n",
      "CPU times: user 1.81 ms, sys: 1.25 ms, total: 3.07 ms\n",
      "Wall time: 4.97 ms\n"
     ]
    }
   ],
   "source": [
    "%%time\n",
    "\n",
    "print ('\"Keys\" of Each Document')\n",
    "for k in document.keys():\n",
    "    print ('\\t-', k)"
   ]
  },
  {
   "cell_type": "markdown",
   "id": "39f96aa3",
   "metadata": {},
   "source": [
    "## Find TF-IDF of Documents"
   ]
  },
  {
   "cell_type": "code",
   "execution_count": 7,
   "id": "70518803",
   "metadata": {},
   "outputs": [
    {
     "name": "stdout",
     "output_type": "stream",
     "text": [
      "(938, 5669)\n",
      "CPU times: user 3.56 s, sys: 97.6 ms, total: 3.66 s\n",
      "Wall time: 3.68 s\n"
     ]
    }
   ],
   "source": [
    "%%time\n",
    "\n",
    "# Instantiate a vectorizer. \n",
    "tfidf = TfidfVectorizer(\n",
    "    min_df=0.05, \n",
    "    max_df=0.9,\n",
    "    stop_words='english',\n",
    "    encoding='latin-1'\n",
    ")\n",
    "\n",
    "# The features are a matrix.\n",
    "features = tfidf.fit_transform(dataframe['text']).toarray()\n",
    "\n",
    "# Show data size.\n",
    "print (features.shape)"
   ]
  },
  {
   "cell_type": "markdown",
   "id": "90af66b2",
   "metadata": {},
   "source": [
    "## Preparing the Data\n",
    "\n",
    "We are trying to create a matrix: rows and columns with numerical values. More specifically, each row of this matrix will represent a document and the columns will represent the frequency (TF-IDF) of a specific word. We can achieve this transformation by separating out our metadata and then re-shaping the dataframe. Many computational processes expect a matrix-like input. The following code-block, then, can be a useful reference for other projects as well."
   ]
  },
  {
   "cell_type": "code",
   "execution_count": 8,
   "id": "ec4b8937",
   "metadata": {},
   "outputs": [
    {
     "name": "stdout",
     "output_type": "stream",
     "text": [
      "CPU times: user 8.32 ms, sys: 373 µs, total: 8.7 ms\n",
      "Wall time: 9.22 ms\n"
     ]
    },
    {
     "data": {
      "text/html": [
       "<div>\n",
       "<style scoped>\n",
       "    .dataframe tbody tr th:only-of-type {\n",
       "        vertical-align: middle;\n",
       "    }\n",
       "\n",
       "    .dataframe tbody tr th {\n",
       "        vertical-align: top;\n",
       "    }\n",
       "\n",
       "    .dataframe thead th {\n",
       "        text-align: right;\n",
       "    }\n",
       "</style>\n",
       "<table border=\"1\" class=\"dataframe\">\n",
       "  <thead>\n",
       "    <tr style=\"text-align: right;\">\n",
       "      <th></th>\n",
       "      <th>aaron</th>\n",
       "      <th>abandon</th>\n",
       "      <th>abandoned</th>\n",
       "      <th>ability</th>\n",
       "      <th>able</th>\n",
       "      <th>ably</th>\n",
       "      <th>abraham</th>\n",
       "      <th>absence</th>\n",
       "      <th>absent</th>\n",
       "      <th>absolute</th>\n",
       "      <th>...</th>\n",
       "      <th>years</th>\n",
       "      <th>yellow</th>\n",
       "      <th>yield</th>\n",
       "      <th>yields</th>\n",
       "      <th>york</th>\n",
       "      <th>yorkshire</th>\n",
       "      <th>young</th>\n",
       "      <th>younger</th>\n",
       "      <th>youth</th>\n",
       "      <th>youthful</th>\n",
       "    </tr>\n",
       "  </thead>\n",
       "  <tbody>\n",
       "    <tr>\n",
       "      <th>0</th>\n",
       "      <td>0.0</td>\n",
       "      <td>0.0</td>\n",
       "      <td>0.0</td>\n",
       "      <td>0.000000</td>\n",
       "      <td>0.022407</td>\n",
       "      <td>0.021964</td>\n",
       "      <td>0.0</td>\n",
       "      <td>0.000000</td>\n",
       "      <td>0.000000</td>\n",
       "      <td>0.0</td>\n",
       "      <td>...</td>\n",
       "      <td>0.029897</td>\n",
       "      <td>0.0</td>\n",
       "      <td>0.0</td>\n",
       "      <td>0.0</td>\n",
       "      <td>0.000000</td>\n",
       "      <td>0.0</td>\n",
       "      <td>0.0</td>\n",
       "      <td>0.0</td>\n",
       "      <td>0.0</td>\n",
       "      <td>0.0</td>\n",
       "    </tr>\n",
       "    <tr>\n",
       "      <th>1</th>\n",
       "      <td>0.0</td>\n",
       "      <td>0.0</td>\n",
       "      <td>0.0</td>\n",
       "      <td>0.018231</td>\n",
       "      <td>0.000000</td>\n",
       "      <td>0.000000</td>\n",
       "      <td>0.0</td>\n",
       "      <td>0.000000</td>\n",
       "      <td>0.023387</td>\n",
       "      <td>0.0</td>\n",
       "      <td>...</td>\n",
       "      <td>0.013681</td>\n",
       "      <td>0.0</td>\n",
       "      <td>0.0</td>\n",
       "      <td>0.0</td>\n",
       "      <td>0.000000</td>\n",
       "      <td>0.0</td>\n",
       "      <td>0.0</td>\n",
       "      <td>0.0</td>\n",
       "      <td>0.0</td>\n",
       "      <td>0.0</td>\n",
       "    </tr>\n",
       "    <tr>\n",
       "      <th>2</th>\n",
       "      <td>0.0</td>\n",
       "      <td>0.0</td>\n",
       "      <td>0.0</td>\n",
       "      <td>0.038370</td>\n",
       "      <td>0.032371</td>\n",
       "      <td>0.000000</td>\n",
       "      <td>0.0</td>\n",
       "      <td>0.038306</td>\n",
       "      <td>0.000000</td>\n",
       "      <td>0.0</td>\n",
       "      <td>...</td>\n",
       "      <td>0.000000</td>\n",
       "      <td>0.0</td>\n",
       "      <td>0.0</td>\n",
       "      <td>0.0</td>\n",
       "      <td>0.094244</td>\n",
       "      <td>0.0</td>\n",
       "      <td>0.0</td>\n",
       "      <td>0.0</td>\n",
       "      <td>0.0</td>\n",
       "      <td>0.0</td>\n",
       "    </tr>\n",
       "  </tbody>\n",
       "</table>\n",
       "<p>3 rows × 5669 columns</p>\n",
       "</div>"
      ],
      "text/plain": [
       "   aaron  abandon  abandoned   ability      able      ably  abraham   absence  \\\n",
       "0    0.0      0.0        0.0  0.000000  0.022407  0.021964      0.0  0.000000   \n",
       "1    0.0      0.0        0.0  0.018231  0.000000  0.000000      0.0  0.000000   \n",
       "2    0.0      0.0        0.0  0.038370  0.032371  0.000000      0.0  0.038306   \n",
       "\n",
       "     absent  absolute  ...     years  yellow  yield  yields      york  \\\n",
       "0  0.000000       0.0  ...  0.029897     0.0    0.0     0.0  0.000000   \n",
       "1  0.023387       0.0  ...  0.013681     0.0    0.0     0.0  0.000000   \n",
       "2  0.000000       0.0  ...  0.000000     0.0    0.0     0.0  0.094244   \n",
       "\n",
       "   yorkshire  young  younger  youth  youthful  \n",
       "0        0.0    0.0      0.0    0.0       0.0  \n",
       "1        0.0    0.0      0.0    0.0       0.0  \n",
       "2        0.0    0.0      0.0    0.0       0.0  \n",
       "\n",
       "[3 rows x 5669 columns]"
      ]
     },
     "execution_count": 8,
     "metadata": {},
     "output_type": "execute_result"
    }
   ],
   "source": [
    "%%time\n",
    "\n",
    "\n",
    "doc_data = pd.DataFrame(features,\n",
    "                        index = dataframe.index,\n",
    "                        columns = tfidf.get_feature_names())\n",
    "\n",
    "doc_data.head(3)"
   ]
  },
  {
   "cell_type": "markdown",
   "id": "04fc84f6",
   "metadata": {},
   "source": [
    "#### Re-Join Features with Metadata"
   ]
  },
  {
   "cell_type": "code",
   "execution_count": 9,
   "id": "cbba1301",
   "metadata": {},
   "outputs": [
    {
     "name": "stdout",
     "output_type": "stream",
     "text": [
      "CPU times: user 51.2 ms, sys: 19.8 ms, total: 71 ms\n",
      "Wall time: 70.9 ms\n"
     ]
    },
    {
     "data": {
      "text/html": [
       "<div>\n",
       "<style scoped>\n",
       "    .dataframe tbody tr th:only-of-type {\n",
       "        vertical-align: middle;\n",
       "    }\n",
       "\n",
       "    .dataframe tbody tr th {\n",
       "        vertical-align: top;\n",
       "    }\n",
       "\n",
       "    .dataframe thead th {\n",
       "        text-align: right;\n",
       "    }\n",
       "</style>\n",
       "<table border=\"1\" class=\"dataframe\">\n",
       "  <thead>\n",
       "    <tr style=\"text-align: right;\">\n",
       "      <th></th>\n",
       "      <th>id</th>\n",
       "      <th>title_x</th>\n",
       "      <th>publisher_x</th>\n",
       "      <th>publicationYear</th>\n",
       "      <th>aaron</th>\n",
       "      <th>abandon</th>\n",
       "      <th>abandoned</th>\n",
       "      <th>ability</th>\n",
       "      <th>able</th>\n",
       "      <th>ably</th>\n",
       "      <th>...</th>\n",
       "      <th>years</th>\n",
       "      <th>yellow</th>\n",
       "      <th>yield</th>\n",
       "      <th>yields</th>\n",
       "      <th>york</th>\n",
       "      <th>yorkshire</th>\n",
       "      <th>young</th>\n",
       "      <th>younger</th>\n",
       "      <th>youth</th>\n",
       "      <th>youthful</th>\n",
       "    </tr>\n",
       "  </thead>\n",
       "  <tbody>\n",
       "    <tr>\n",
       "      <th>0</th>\n",
       "      <td>http://www.jstor.org/stable/24778460</td>\n",
       "      <td>\"The Killing Stops Here\": Unmaking the Myths o...</td>\n",
       "      <td>Folger Shakespeare Library</td>\n",
       "      <td>2013</td>\n",
       "      <td>0.0</td>\n",
       "      <td>0.0</td>\n",
       "      <td>0.0</td>\n",
       "      <td>0.000000</td>\n",
       "      <td>0.022407</td>\n",
       "      <td>0.021964</td>\n",
       "      <td>...</td>\n",
       "      <td>0.029897</td>\n",
       "      <td>0.0</td>\n",
       "      <td>0.0</td>\n",
       "      <td>0.0</td>\n",
       "      <td>0.000000</td>\n",
       "      <td>0.0</td>\n",
       "      <td>0.0</td>\n",
       "      <td>0.0</td>\n",
       "      <td>0.0</td>\n",
       "      <td>0.0</td>\n",
       "    </tr>\n",
       "    <tr>\n",
       "      <th>1</th>\n",
       "      <td>http://www.jstor.org/stable/2870867</td>\n",
       "      <td>The Shenandoah Shakespeare Express</td>\n",
       "      <td>Folger Shakespeare Library</td>\n",
       "      <td>1992</td>\n",
       "      <td>0.0</td>\n",
       "      <td>0.0</td>\n",
       "      <td>0.0</td>\n",
       "      <td>0.018231</td>\n",
       "      <td>0.000000</td>\n",
       "      <td>0.000000</td>\n",
       "      <td>...</td>\n",
       "      <td>0.013681</td>\n",
       "      <td>0.0</td>\n",
       "      <td>0.0</td>\n",
       "      <td>0.0</td>\n",
       "      <td>0.000000</td>\n",
       "      <td>0.0</td>\n",
       "      <td>0.0</td>\n",
       "      <td>0.0</td>\n",
       "      <td>0.0</td>\n",
       "      <td>0.0</td>\n",
       "    </tr>\n",
       "    <tr>\n",
       "      <th>2</th>\n",
       "      <td>http://www.jstor.org/stable/2871295</td>\n",
       "      <td>Retrieving Jonson's Petrarch</td>\n",
       "      <td>Folger Shakespeare Library</td>\n",
       "      <td>1994</td>\n",
       "      <td>0.0</td>\n",
       "      <td>0.0</td>\n",
       "      <td>0.0</td>\n",
       "      <td>0.038370</td>\n",
       "      <td>0.032371</td>\n",
       "      <td>0.000000</td>\n",
       "      <td>...</td>\n",
       "      <td>0.000000</td>\n",
       "      <td>0.0</td>\n",
       "      <td>0.0</td>\n",
       "      <td>0.0</td>\n",
       "      <td>0.094244</td>\n",
       "      <td>0.0</td>\n",
       "      <td>0.0</td>\n",
       "      <td>0.0</td>\n",
       "      <td>0.0</td>\n",
       "      <td>0.0</td>\n",
       "    </tr>\n",
       "  </tbody>\n",
       "</table>\n",
       "<p>3 rows × 5673 columns</p>\n",
       "</div>"
      ],
      "text/plain": [
       "                                     id  \\\n",
       "0  http://www.jstor.org/stable/24778460   \n",
       "1   http://www.jstor.org/stable/2870867   \n",
       "2   http://www.jstor.org/stable/2871295   \n",
       "\n",
       "                                             title_x  \\\n",
       "0  \"The Killing Stops Here\": Unmaking the Myths o...   \n",
       "1                 The Shenandoah Shakespeare Express   \n",
       "2                       Retrieving Jonson's Petrarch   \n",
       "\n",
       "                  publisher_x  publicationYear  aaron  abandon  abandoned  \\\n",
       "0  Folger Shakespeare Library             2013    0.0      0.0        0.0   \n",
       "1  Folger Shakespeare Library             1992    0.0      0.0        0.0   \n",
       "2  Folger Shakespeare Library             1994    0.0      0.0        0.0   \n",
       "\n",
       "    ability      able      ably  ...     years  yellow  yield  yields  \\\n",
       "0  0.000000  0.022407  0.021964  ...  0.029897     0.0    0.0     0.0   \n",
       "1  0.018231  0.000000  0.000000  ...  0.013681     0.0    0.0     0.0   \n",
       "2  0.038370  0.032371  0.000000  ...  0.000000     0.0    0.0     0.0   \n",
       "\n",
       "       york  yorkshire  young  younger  youth  youthful  \n",
       "0  0.000000        0.0    0.0      0.0    0.0       0.0  \n",
       "1  0.000000        0.0    0.0      0.0    0.0       0.0  \n",
       "2  0.094244        0.0    0.0      0.0    0.0       0.0  \n",
       "\n",
       "[3 rows x 5673 columns]"
      ]
     },
     "execution_count": 9,
     "metadata": {},
     "output_type": "execute_result"
    }
   ],
   "source": [
    "%%time\n",
    "\n",
    "dataframe = dataframe \\\n",
    "    .drop(columns = ['text']) \\\n",
    "    .merge(doc_data, left_index=True, right_index=True, how = 'inner')\n",
    "\n",
    "dataframe.head(3)"
   ]
  },
  {
   "cell_type": "markdown",
   "id": "6fccc0df",
   "metadata": {},
   "source": [
    "When merging the two dataframes (features and metadata), pandas found two columns with the same name: title. One refers to the metadata, the title of the article. The other refers to the word \"title\" as it appears within the article. Pandas distinguishes between the two by adding \"_x\" to the first."
   ]
  },
  {
   "cell_type": "code",
   "execution_count": 10,
   "id": "4b03ba23",
   "metadata": {},
   "outputs": [
    {
     "name": "stdout",
     "output_type": "stream",
     "text": [
      "CPU times: user 26.2 ms, sys: 19.9 ms, total: 46.2 ms\n",
      "Wall time: 45.3 ms\n"
     ]
    },
    {
     "data": {
      "text/html": [
       "<div>\n",
       "<style scoped>\n",
       "    .dataframe tbody tr th:only-of-type {\n",
       "        vertical-align: middle;\n",
       "    }\n",
       "\n",
       "    .dataframe tbody tr th {\n",
       "        vertical-align: top;\n",
       "    }\n",
       "\n",
       "    .dataframe thead th {\n",
       "        text-align: right;\n",
       "    }\n",
       "</style>\n",
       "<table border=\"1\" class=\"dataframe\">\n",
       "  <thead>\n",
       "    <tr style=\"text-align: right;\">\n",
       "      <th></th>\n",
       "      <th>id</th>\n",
       "      <th>meta_title</th>\n",
       "      <th>meta_publisher</th>\n",
       "      <th>publicationYear</th>\n",
       "      <th>aaron</th>\n",
       "      <th>abandon</th>\n",
       "      <th>abandoned</th>\n",
       "      <th>ability</th>\n",
       "      <th>able</th>\n",
       "      <th>ably</th>\n",
       "      <th>...</th>\n",
       "      <th>years</th>\n",
       "      <th>yellow</th>\n",
       "      <th>yield</th>\n",
       "      <th>yields</th>\n",
       "      <th>york</th>\n",
       "      <th>yorkshire</th>\n",
       "      <th>young</th>\n",
       "      <th>younger</th>\n",
       "      <th>youth</th>\n",
       "      <th>youthful</th>\n",
       "    </tr>\n",
       "  </thead>\n",
       "  <tbody>\n",
       "    <tr>\n",
       "      <th>0</th>\n",
       "      <td>http://www.jstor.org/stable/24778460</td>\n",
       "      <td>\"The Killing Stops Here\": Unmaking the Myths o...</td>\n",
       "      <td>Folger Shakespeare Library</td>\n",
       "      <td>2013</td>\n",
       "      <td>0.0</td>\n",
       "      <td>0.0</td>\n",
       "      <td>0.0</td>\n",
       "      <td>0.000000</td>\n",
       "      <td>0.022407</td>\n",
       "      <td>0.021964</td>\n",
       "      <td>...</td>\n",
       "      <td>0.029897</td>\n",
       "      <td>0.0</td>\n",
       "      <td>0.0</td>\n",
       "      <td>0.0</td>\n",
       "      <td>0.0</td>\n",
       "      <td>0.0</td>\n",
       "      <td>0.0</td>\n",
       "      <td>0.0</td>\n",
       "      <td>0.0</td>\n",
       "      <td>0.0</td>\n",
       "    </tr>\n",
       "    <tr>\n",
       "      <th>1</th>\n",
       "      <td>http://www.jstor.org/stable/2870867</td>\n",
       "      <td>The Shenandoah Shakespeare Express</td>\n",
       "      <td>Folger Shakespeare Library</td>\n",
       "      <td>1992</td>\n",
       "      <td>0.0</td>\n",
       "      <td>0.0</td>\n",
       "      <td>0.0</td>\n",
       "      <td>0.018231</td>\n",
       "      <td>0.000000</td>\n",
       "      <td>0.000000</td>\n",
       "      <td>...</td>\n",
       "      <td>0.013681</td>\n",
       "      <td>0.0</td>\n",
       "      <td>0.0</td>\n",
       "      <td>0.0</td>\n",
       "      <td>0.0</td>\n",
       "      <td>0.0</td>\n",
       "      <td>0.0</td>\n",
       "      <td>0.0</td>\n",
       "      <td>0.0</td>\n",
       "      <td>0.0</td>\n",
       "    </tr>\n",
       "  </tbody>\n",
       "</table>\n",
       "<p>2 rows × 5673 columns</p>\n",
       "</div>"
      ],
      "text/plain": [
       "                                     id  \\\n",
       "0  http://www.jstor.org/stable/24778460   \n",
       "1   http://www.jstor.org/stable/2870867   \n",
       "\n",
       "                                          meta_title  \\\n",
       "0  \"The Killing Stops Here\": Unmaking the Myths o...   \n",
       "1                 The Shenandoah Shakespeare Express   \n",
       "\n",
       "               meta_publisher  publicationYear  aaron  abandon  abandoned  \\\n",
       "0  Folger Shakespeare Library             2013    0.0      0.0        0.0   \n",
       "1  Folger Shakespeare Library             1992    0.0      0.0        0.0   \n",
       "\n",
       "    ability      able      ably  ...     years  yellow  yield  yields  york  \\\n",
       "0  0.000000  0.022407  0.021964  ...  0.029897     0.0    0.0     0.0   0.0   \n",
       "1  0.018231  0.000000  0.000000  ...  0.013681     0.0    0.0     0.0   0.0   \n",
       "\n",
       "   yorkshire  young  younger  youth  youthful  \n",
       "0        0.0    0.0      0.0    0.0       0.0  \n",
       "1        0.0    0.0      0.0    0.0       0.0  \n",
       "\n",
       "[2 rows x 5673 columns]"
      ]
     },
     "execution_count": 10,
     "metadata": {},
     "output_type": "execute_result"
    }
   ],
   "source": [
    "%%time\n",
    "\n",
    "# Rename column for clarity.\n",
    "dataframe = dataframe.rename(columns = {'title_x': 'meta_title', 'publisher_x': 'meta_publisher'})\n",
    "\n",
    "dataframe.head(2)"
   ]
  },
  {
   "cell_type": "markdown",
   "id": "868cec37",
   "metadata": {},
   "source": [
    "## Scale Data"
   ]
  },
  {
   "cell_type": "code",
   "execution_count": 11,
   "id": "e5ae4bca",
   "metadata": {},
   "outputs": [
    {
     "name": "stdout",
     "output_type": "stream",
     "text": [
      "CPU times: user 117 ms, sys: 29.4 ms, total: 146 ms\n",
      "Wall time: 149 ms\n"
     ]
    }
   ],
   "source": [
    "%%time\n",
    "\n",
    "# Overwrite features data with scaled version.\n",
    "features = StandardScaler().fit_transform(features)"
   ]
  },
  {
   "cell_type": "markdown",
   "id": "62260825",
   "metadata": {},
   "source": [
    "## Principal Component Analysis"
   ]
  },
  {
   "cell_type": "code",
   "execution_count": 12,
   "id": "4cccdacb",
   "metadata": {},
   "outputs": [
    {
     "name": "stdout",
     "output_type": "stream",
     "text": [
      "CPU times: user 582 ms, sys: 63.2 ms, total: 645 ms\n",
      "Wall time: 363 ms\n"
     ]
    },
    {
     "data": {
      "text/html": [
       "<div>\n",
       "<style scoped>\n",
       "    .dataframe tbody tr th:only-of-type {\n",
       "        vertical-align: middle;\n",
       "    }\n",
       "\n",
       "    .dataframe tbody tr th {\n",
       "        vertical-align: top;\n",
       "    }\n",
       "\n",
       "    .dataframe thead th {\n",
       "        text-align: right;\n",
       "    }\n",
       "</style>\n",
       "<table border=\"1\" class=\"dataframe\">\n",
       "  <thead>\n",
       "    <tr style=\"text-align: right;\">\n",
       "      <th></th>\n",
       "      <th>pc1</th>\n",
       "      <th>pc2</th>\n",
       "    </tr>\n",
       "  </thead>\n",
       "  <tbody>\n",
       "    <tr>\n",
       "      <th>0</th>\n",
       "      <td>9.249441</td>\n",
       "      <td>5.596426</td>\n",
       "    </tr>\n",
       "    <tr>\n",
       "      <th>1</th>\n",
       "      <td>5.574416</td>\n",
       "      <td>9.927012</td>\n",
       "    </tr>\n",
       "    <tr>\n",
       "      <th>2</th>\n",
       "      <td>-1.292714</td>\n",
       "      <td>2.182032</td>\n",
       "    </tr>\n",
       "    <tr>\n",
       "      <th>3</th>\n",
       "      <td>10.189810</td>\n",
       "      <td>-4.105640</td>\n",
       "    </tr>\n",
       "    <tr>\n",
       "      <th>4</th>\n",
       "      <td>5.923143</td>\n",
       "      <td>0.805288</td>\n",
       "    </tr>\n",
       "  </tbody>\n",
       "</table>\n",
       "</div>"
      ],
      "text/plain": [
       "         pc1       pc2\n",
       "0   9.249441  5.596426\n",
       "1   5.574416  9.927012\n",
       "2  -1.292714  2.182032\n",
       "3  10.189810 -4.105640\n",
       "4   5.923143  0.805288"
      ]
     },
     "execution_count": 12,
     "metadata": {},
     "output_type": "execute_result"
    }
   ],
   "source": [
    "%%time\n",
    "\n",
    "pca = PCA(n_components = 2)\n",
    "\n",
    "components = pca.fit_transform(features)\n",
    "\n",
    "pcaDF = pd.DataFrame(data = components, \n",
    "                           columns = ['pc1', 'pc2'],\n",
    "                           index = dataframe.index)\n",
    "\n",
    "pcaDF.head()"
   ]
  },
  {
   "cell_type": "markdown",
   "id": "9fe5cbd3",
   "metadata": {},
   "source": [
    "### Visualize"
   ]
  },
  {
   "cell_type": "code",
   "execution_count": 13,
   "id": "49c525bd",
   "metadata": {},
   "outputs": [
    {
     "data": {
      "image/png": "[encoded data removed]",
      "text/plain": [
       "<Figure size 640x480 with 1 Axes>"
      ]
     },
     "metadata": {},
     "output_type": "display_data"
    },
    {
     "name": "stdout",
     "output_type": "stream",
     "text": [
      "CPU times: user 267 ms, sys: 26.6 ms, total: 294 ms\n",
      "Wall time: 271 ms\n"
     ]
    }
   ],
   "source": [
    "%%time\n",
    "\n",
    "sns.scatterplot(\n",
    "    data = pcaDF,\n",
    "    x = 'pc1', y = 'pc2'\n",
    ")\n",
    "\n",
    "plt.show()"
   ]
  },
  {
   "cell_type": "markdown",
   "id": "2fdbaa62",
   "metadata": {},
   "source": [
    "## Clustering\n",
    "\n",
    "What is clustering?"
   ]
  },
  {
   "cell_type": "code",
   "execution_count": 14,
   "id": "19c78e57",
   "metadata": {},
   "outputs": [
    {
     "name": "stdout",
     "output_type": "stream",
     "text": [
      "CPU times: user 334 ms, sys: 29.2 ms, total: 363 ms\n",
      "Wall time: 120 ms\n"
     ]
    }
   ],
   "source": [
    "%%time\n",
    "\n",
    "model = KMeans(n_clusters = 5, random_state = 0) \n",
    "\n",
    "predictions = model.fit_predict(components)\n",
    "\n",
    "pcaDF['meta_cluster'] = predictions\n",
    "pcaDF['meta_publisher'] = dataframe['meta_publisher']"
   ]
  },
  {
   "cell_type": "markdown",
   "id": "1d3bef63",
   "metadata": {},
   "source": [
    "#### Append Cluster Labels to Dataframe"
   ]
  },
  {
   "cell_type": "code",
   "execution_count": 15,
   "id": "7e72d2a3",
   "metadata": {},
   "outputs": [
    {
     "data": {
      "image/png": "[encoded data removed]",
      "text/plain": [
       "<Figure size 640x480 with 1 Axes>"
      ]
     },
     "metadata": {},
     "output_type": "display_data"
    },
    {
     "name": "stdout",
     "output_type": "stream",
     "text": [
      "CPU times: user 780 ms, sys: 37.8 ms, total: 818 ms\n",
      "Wall time: 333 ms\n"
     ]
    }
   ],
   "source": [
    "%%time\n",
    "\n",
    "# Seaborn will read the labels as numerical and apply a gradient color scheme.\n",
    "# Instead, we want to treat the labels as categorical, so we will change them from integers to strings.\n",
    "pcaDF['meta_cluster'] = pcaDF['meta_cluster'].astype(str)\n",
    "\n",
    "sns.scatterplot(\n",
    "    data = pcaDF,\n",
    "    x = 'pc1', y = 'pc2',\n",
    "    hue = 'meta_publisher'\n",
    ")\n",
    "\n",
    "plt.show()"
   ]
  },
  {
   "cell_type": "code",
   "execution_count": null,
   "id": "b782502c",
   "metadata": {},
   "outputs": [],
   "source": []
  }
 ],
 "metadata": {
  "kernelspec": {
   "display_name": "Python 3",
   "language": "python",
   "name": "python3"
  },
  "language_info": {
   "codemirror_mode": {
    "name": "ipython",
    "version": 3
   },
   "file_extension": ".py",
   "mimetype": "text/x-python",
   "name": "python",
   "nbconvert_exporter": "python",
   "pygments_lexer": "ipython3",
   "version": "3.8.12"
  }
 },
 "nbformat": 4,
 "nbformat_minor": 5
}
